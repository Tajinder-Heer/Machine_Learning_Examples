{
  "nbformat": 4,
  "nbformat_minor": 0,
  "metadata": {
    "colab": {
      "provenance": []
    },
    "kernelspec": {
      "name": "python3",
      "display_name": "Python 3"
    },
    "language_info": {
      "name": "python"
    }
  },
  "cells": [
    {
      "cell_type": "code",
      "execution_count": null,
      "metadata": {
        "id": "ZCB-v653LLic"
      },
      "outputs": [],
      "source": []
    },
    {
      "cell_type": "markdown",
      "source": [
        "**bold text**## **Dependencies**"
      ],
      "metadata": {
        "id": "t7WSVxOoLM41"
      }
    },
    {
      "cell_type": "code",
      "source": [
        "import tensorflow as tf\n",
        "from tensorflow.keras.datasets import mnist\n",
        "from tensorflow.keras.layers import Conv2D, MaxPooling2D, Flatten, Dense, Dropout\n",
        "from tensorflow.keras.models import Sequential\n",
        "from tensorflow.keras.preprocessing.image import ImageDataGenerator\n",
        "import numpy as np\n",
        "from PIL import Image\n",
        "import matplotlib.pyplot as pltt\n"
      ],
      "metadata": {
        "id": "rXmk3BqBLddf"
      },
      "execution_count": null,
      "outputs": []
    },
    {
      "cell_type": "markdown",
      "source": [
        "Load and preprocess your own image (replace 'your_image.jpg' with the actual filename)"
      ],
      "metadata": {
        "id": "nEpzxvtvZ6g6"
      }
    },
    {
      "cell_type": "code",
      "source": [
        "image = Image.open('test_images/g.jpg').convert('L')\n",
        "image = image.resize((28,28))\n",
        "image_array = np.array(image)/255.0\n",
        "image_array = image_array.reshape(1,28,28,1)\n"
      ],
      "metadata": {
        "id": "He-dV9QZaFph"
      },
      "execution_count": null,
      "outputs": []
    },
    {
      "cell_type": "markdown",
      "source": [
        "Load the MNIST dataset for training"
      ],
      "metadata": {
        "id": "2qDuOjzTczTN"
      }
    },
    {
      "cell_type": "code",
      "source": [
        "(train_images, train_labels), (_, _) = mnist.load_data()\n",
        "train_images = train_images.reshape(train_images.shape[0], 28, 28, 1)\n",
        "train_images = train_images.astype('float32') / 255.0"
      ],
      "metadata": {
        "id": "uBcSWDHBc36h"
      },
      "execution_count": null,
      "outputs": []
    },
    {
      "cell_type": "markdown",
      "source": [
        "Build and train a simple neural network model (CNN)"
      ],
      "metadata": {
        "id": "4nU_uPX7dYCC"
      }
    },
    {
      "cell_type": "code",
      "source": [
        "model = Sequential([\n",
        "    Conv2D(64, (3, 3), activation='relu', input_shape=(28, 28, 1)),\n",
        "    MaxPooling2D((2, 2)),\n",
        "    Conv2D(64, (3, 3), activation='relu'),\n",
        "    MaxPooling2D((2, 2)),\n",
        "    Flatten(),\n",
        "    Dense(256, activation='relu'),\n",
        "    Dropout(0.5),\n",
        "    Dense(10, activation='softmax')\n",
        "])"
      ],
      "metadata": {
        "id": "FlXNBcFKdbOL"
      },
      "execution_count": null,
      "outputs": []
    },
    {
      "cell_type": "markdown",
      "source": [
        "Compile Model"
      ],
      "metadata": {
        "id": "IgW-Fo49e79q"
      }
    },
    {
      "cell_type": "code",
      "source": [
        "model.compile(optimizer='adam',\n",
        "              loss='sparse_categorical_crossentropy',\n",
        "              metrics=['accuracy'])\n",
        "\n",
        "# Data augmentation for MNIST dataset\n",
        "datagen = ImageDataGenerator(rotation_range=10, zoom_range=0.1, width_shift_range=0.1, height_shift_range=0.1)\n",
        "datagen.fit(train_images)\n",
        "\n",
        "# Train the model\n",
        "model.fit(datagen.flow(train_images, train_labels, batch_size=32), epochs=5, steps_per_epoch=len(train_images) / 32)"
      ],
      "metadata": {
        "id": "nGUJUDZFe-q6"
      },
      "execution_count": null,
      "outputs": []
    },
    {
      "cell_type": "markdown",
      "source": [
        "Use Trained Model"
      ],
      "metadata": {
        "id": "wEmt-P-Ifxzy"
      }
    },
    {
      "cell_type": "code",
      "source": [
        "predictions = model.predict(image_array)\n",
        "predicted_digit = np.argmax(predictions)\n",
        "print(f'Predicted digit is: {predicted_digit}')"
      ],
      "metadata": {
        "colab": {
          "base_uri": "https://localhost:8080/"
        },
        "id": "EVVQ_Xb1f0pS",
        "outputId": "da506d44-6613-499c-c505-6f3202c3e70f"
      },
      "execution_count": null,
      "outputs": [
        {
          "output_type": "stream",
          "name": "stdout",
          "text": [
            "Predicted digit is: 8\n"
          ]
        }
      ]
    },
    {
      "cell_type": "markdown",
      "source": [
        "Visualize the test image"
      ],
      "metadata": {
        "id": "Mho30cpJlUdk"
      }
    },
    {
      "cell_type": "code",
      "source": [
        "# Visualize the test image\n",
        "plt.imshow(image_array[0, :, :, 0], cmap='gray')\n",
        "plt.title(\"Test Image\")\n",
        "plt.show()\n",
        "\n",
        "# Visualize the predicted probabilities for each class\n",
        "plt.bar(range(10), predictions[0])\n",
        "plt.xlabel(\"Digit Class\")\n",
        "plt.ylabel(\"Probability\")\n",
        "plt.title(\"Predicted Probabilities\")\n",
        "plt.xticks(range(30))\n",
        "plt.show()"
      ],
      "metadata": {
        "colab": {
          "base_uri": "https://localhost:8080/",
          "height": 907
        },
        "id": "6A5C9OnElaYj",
        "outputId": "18ed4026-8577-41ba-dff5-a57758c6ac7f"
      },
      "execution_count": null,
      "outputs": [
        {
          "output_type": "display_data",
          "data": {
            "text/plain": [
              "<Figure size 640x480 with 1 Axes>"
            ],
            "image/png": "[encoded data removed]"
          },
          "metadata": {}
        },
        {
          "output_type": "display_data",
          "data": {
            "text/plain": [
              "<Figure size 640x480 with 1 Axes>"
            ],
            "image/png": "[encoded data removed]"
          },
          "metadata": {}
        }
      ]
    }
  ]
}